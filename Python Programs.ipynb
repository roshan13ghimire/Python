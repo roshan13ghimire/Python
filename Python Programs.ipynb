{
 "cells": [
  {
   "cell_type": "markdown",
   "id": "potential-thinking",
   "metadata": {},
   "source": [
    "# Python Program to Check if a Number is Odd or Even."
   ]
  },
  {
   "cell_type": "code",
   "execution_count": 1,
   "id": "prospective-pride",
   "metadata": {},
   "outputs": [
    {
     "name": "stdout",
     "output_type": "stream",
     "text": [
      "11\n",
      "Number 11 is odd.\n"
     ]
    }
   ],
   "source": [
    "a = int(input())\n",
    "if(a%2 == 0):\n",
    "    print(\"Number\",a, \"is even.\")\n",
    "else:\n",
    "    print(\"Number\",a, \"is odd.\")"
   ]
  },
  {
   "cell_type": "markdown",
   "id": "revolutionary-passion",
   "metadata": {},
   "source": [
    "# Python Program to Check if a Number is Positive, Negative or 0"
   ]
  },
  {
   "cell_type": "code",
   "execution_count": 37,
   "id": "underlying-tract",
   "metadata": {},
   "outputs": [
    {
     "name": "stdout",
     "output_type": "stream",
     "text": [
      "1000\n",
      "Number 1000 is Positive\n"
     ]
    }
   ],
   "source": [
    "a = int(input())\n",
    "if(a < 0):\n",
    "    print(\"Number\", a, \"is Negative\")\n",
    "elif (a > 0):\n",
    "    print(\"Number\" ,a, \"is Positive\")\n",
    "else:\n",
    "    print(\"Number\",a, \"is 0\")"
   ]
  },
  {
   "cell_type": "markdown",
   "id": "ancient-neighbor",
   "metadata": {},
   "source": [
    "# Python Program to Convert Celsius To Fahrenheit (f = c * 1.8 + 32)"
   ]
  },
  {
   "cell_type": "code",
   "execution_count": null,
   "id": "legendary-serial",
   "metadata": {},
   "outputs": [],
   "source": [
    "c = float(input())\n",
    "f = c * 1.8 + 32\n",
    "print(c , \"Celsius is \" ,f, \"Fahrenheit\")\n"
   ]
  },
  {
   "cell_type": "markdown",
   "id": "military-president",
   "metadata": {},
   "source": [
    "# Python Program to Find the Largest Among Three Numbers"
   ]
  },
  {
   "cell_type": "code",
   "execution_count": 51,
   "id": "loved-theology",
   "metadata": {},
   "outputs": [
    {
     "name": "stdout",
     "output_type": "stream",
     "text": [
      "4\n",
      "5\n",
      "2\n",
      "Num2: 5 is greater\n"
     ]
    }
   ],
   "source": [
    "num1  = int(input())\n",
    "num2 = int(input())\n",
    "num3 = int(input())\n",
    "if(num1 > num2 and num1 > num3):\n",
    "    print(\"Num1:\" , num1 , \"is greater\")\n",
    "elif(num2 > num1 and num2 > num3):\n",
    "    print(\"Num2:\" , num2 , \"is greater\")\n",
    "else:\n",
    "    print(\"Num3:\" , num3 , \"is greater\")"
   ]
  },
  {
   "cell_type": "markdown",
   "id": "wound-convertible",
   "metadata": {},
   "source": [
    "# Python Program to find sum of array."
   ]
  },
  {
   "cell_type": "code",
   "execution_count": 12,
   "id": "favorite-colombia",
   "metadata": {},
   "outputs": [
    {
     "name": "stdout",
     "output_type": "stream",
     "text": [
      "7\n"
     ]
    }
   ],
   "source": [
    "a = [1,3,3]\n",
    "s = 0\n",
    "for i in range(len(a)):\n",
    "    s = s + a[i]\n",
    "print(s)"
   ]
  },
  {
   "cell_type": "markdown",
   "id": "under-budapest",
   "metadata": {},
   "source": [
    "# Python Program for simple interest."
   ]
  },
  {
   "cell_type": "code",
   "execution_count": 55,
   "id": "aerial-angola",
   "metadata": {},
   "outputs": [
    {
     "name": "stdout",
     "output_type": "stream",
     "text": [
      "999\n",
      "4\n",
      "10\n",
      "Simple Interest is: 399.6\n"
     ]
    }
   ],
   "source": [
    "a = [1,2,3]\n",
    "p = int(input())\n",
    "t = int(input())\n",
    "r = int(input())\n",
    "SI = (p*t*r)/100\n",
    "print(\"Simple Interest is:\",SI)"
   ]
  },
  {
   "cell_type": "markdown",
   "id": "rational-tournament",
   "metadata": {},
   "source": [
    "# Python Program to Display the multiplication Table"
   ]
  },
  {
   "cell_type": "code",
   "execution_count": 9,
   "id": "exclusive-inclusion",
   "metadata": {},
   "outputs": [
    {
     "name": "stdout",
     "output_type": "stream",
     "text": [
      "6\n",
      "6 x 1 = 6\n",
      "6 x 2 = 12\n",
      "6 x 3 = 18\n",
      "6 x 4 = 24\n",
      "6 x 5 = 30\n",
      "6 x 6 = 36\n",
      "6 x 7 = 42\n",
      "6 x 8 = 48\n",
      "6 x 9 = 54\n",
      "6 x 10 = 60\n"
     ]
    }
   ],
   "source": [
    "num = int(input())\n",
    "for i in range(1, 11):\n",
    "    print(num , 'x', i , '=' , num*i)"
   ]
  },
  {
   "cell_type": "markdown",
   "id": "threaded-month",
   "metadata": {},
   "source": [
    "# Python Program to find largest element in an array."
   ]
  },
  {
   "cell_type": "code",
   "execution_count": 73,
   "id": "third-ballet",
   "metadata": {},
   "outputs": [
    {
     "name": "stdout",
     "output_type": "stream",
     "text": [
      "5\n"
     ]
    }
   ],
   "source": [
    "a = [1,2,5,4]\n",
    "maximum = a[0]\n",
    "for i in range(1,len(a)):\n",
    "    if(a[i] > maximum):\n",
    "        maximum = a[i]\n",
    "print(maximum)"
   ]
  },
  {
   "cell_type": "markdown",
   "id": "alpine-coalition",
   "metadata": {},
   "source": [
    "# Python program to print even numbers in a list."
   ]
  },
  {
   "cell_type": "code",
   "execution_count": 77,
   "id": "diagnostic-worth",
   "metadata": {},
   "outputs": [
    {
     "name": "stdout",
     "output_type": "stream",
     "text": [
      "2\n",
      "4\n",
      "6\n"
     ]
    }
   ],
   "source": [
    "a = [1,2,3,4,5,6]\n",
    "for i in range(len(a)):\n",
    "    if(a[i]%2 == 0):\n",
    "        print(a[i])"
   ]
  },
  {
   "cell_type": "markdown",
   "id": "present-tomorrow",
   "metadata": {},
   "source": [
    "# Python program to reverse words in a given String."
   ]
  },
  {
   "cell_type": "code",
   "execution_count": 83,
   "id": "raising-amsterdam",
   "metadata": {},
   "outputs": [
    {
     "name": "stdout",
     "output_type": "stream",
     "text": [
      "asd\n",
      "dsa"
     ]
    }
   ],
   "source": [
    "s = input()\n",
    "for i in range(len(s)-1,-1,-1):\n",
    "    print(s[i],end = \"\")"
   ]
  },
  {
   "cell_type": "markdown",
   "id": "changing-sessions",
   "metadata": {},
   "source": [
    "# Python program to check if a string is palindrome or not."
   ]
  },
  {
   "cell_type": "code",
   "execution_count": 86,
   "id": "continued-fashion",
   "metadata": {},
   "outputs": [
    {
     "name": "stdout",
     "output_type": "stream",
     "text": [
      "racecar\n",
      "Palindrome\n"
     ]
    }
   ],
   "source": [
    "s = input()\n",
    "ns = \"\"\n",
    "for i in range(len(s)-1,-1,-1):\n",
    "    ns = ns + s[i]\n",
    "if(ns == s):\n",
    "    print(\"Palindrome\")\n",
    "else:\n",
    "    print(\"Not Palindrome\")"
   ]
  },
  {
   "cell_type": "markdown",
   "id": "tight-compromise",
   "metadata": {},
   "source": [
    "# Python Program to check Armstrong Number"
   ]
  },
  {
   "cell_type": "code",
   "execution_count": 13,
   "id": "miniature-blank",
   "metadata": {},
   "outputs": [
    {
     "name": "stdout",
     "output_type": "stream",
     "text": [
      "153\n",
      "15\n",
      "1\n",
      "0\n",
      "Armstrong\n"
     ]
    }
   ],
   "source": [
    "a = int(input())\n",
    "b = str(a)\n",
    "l = len(b)\n",
    "s = 0\n",
    "n = a\n",
    "while n != 0:\n",
    "    r = n % 10\n",
    "    s = s+ r**3\n",
    "    n = n//10\n",
    "    print(n)\n",
    "if(s == a):\n",
    "    print(\"Armstrong\")\n",
    "else:\n",
    "    print(\"Not Armstrong\")\n",
    "\n"
   ]
  },
  {
   "cell_type": "markdown",
   "id": "superior-foster",
   "metadata": {},
   "source": [
    "# Python Program for n-th Fibonacci number"
   ]
  },
  {
   "cell_type": "code",
   "execution_count": 37,
   "id": "mounted-sweet",
   "metadata": {},
   "outputs": [
    {
     "name": "stdout",
     "output_type": "stream",
     "text": [
      "5\n",
      "0\n",
      "1\n",
      "1\n",
      "2\n",
      "3\n"
     ]
    }
   ],
   "source": [
    "n = int(input())\n",
    "a = 0\n",
    "b = 1\n",
    "print(a)\n",
    "print(b)\n",
    "for i in range(2,n):\n",
    "    c = a+b\n",
    "    print(c)\n",
    "    a = b\n",
    "    b = c\n",
    "    \n",
    "    "
   ]
  },
  {
   "cell_type": "code",
   "execution_count": null,
   "id": "obvious-saskatchewan",
   "metadata": {},
   "outputs": [],
   "source": []
  }
 ],
 "metadata": {
  "kernelspec": {
   "display_name": "Python 3",
   "language": "python",
   "name": "python3"
  },
  "language_info": {
   "codemirror_mode": {
    "name": "ipython",
    "version": 3
   },
   "file_extension": ".py",
   "mimetype": "text/x-python",
   "name": "python",
   "nbconvert_exporter": "python",
   "pygments_lexer": "ipython3",
   "version": "3.8.5"
  }
 },
 "nbformat": 4,
 "nbformat_minor": 5
}
